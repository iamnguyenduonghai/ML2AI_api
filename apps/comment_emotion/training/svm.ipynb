{
 "cells": [
  {
   "metadata": {
    "ExecuteTime": {
     "end_time": "2025-02-08T19:27:35.915300Z",
     "start_time": "2025-02-08T19:27:34.304814Z"
    }
   },
   "cell_type": "code",
   "source": [
    "from predict import Predict\n",
    "import pandas as pd"
   ],
   "id": "a29ee936a4d767b7",
   "outputs": [],
   "execution_count": 1
  },
  {
   "metadata": {
    "ExecuteTime": {
     "end_time": "2025-02-08T19:27:35.938908Z",
     "start_time": "2025-02-08T19:27:35.924313Z"
    }
   },
   "cell_type": "code",
   "source": "df = pd.read_csv(r'D:\\ML2AI\\ML2AI_api\\apps\\comment_emotion\\dataset\\test.csv')",
   "id": "a118c3cf8ded72af",
   "outputs": [],
   "execution_count": 2
  },
  {
   "metadata": {
    "ExecuteTime": {
     "end_time": "2025-02-08T19:28:00.452599Z",
     "start_time": "2025-02-08T19:27:36.282731Z"
    }
   },
   "cell_type": "code",
   "source": [
    "for i in range(len(df)):\n",
    "    y_truth = df['sentiment'][i]\n",
    "    y_pred = Predict.predict(df['comment'][i])\n",
    "    if y_pred != y_truth:\n",
    "        print(f\"❌ {df['comment'][i]} (Truth: {y_truth}, Pred: {y_pred})\")"
   ],
   "id": "d31c222222058db9",
   "outputs": [],
   "execution_count": 3
  }
 ],
 "metadata": {
  "kernelspec": {
   "display_name": "Python 3",
   "language": "python",
   "name": "python3"
  },
  "language_info": {
   "codemirror_mode": {
    "name": "ipython",
    "version": 2
   },
   "file_extension": ".py",
   "mimetype": "text/x-python",
   "name": "python",
   "nbconvert_exporter": "python",
   "pygments_lexer": "ipython2",
   "version": "2.7.6"
  }
 },
 "nbformat": 4,
 "nbformat_minor": 5
}
